{
 "cells": [
  {
   "cell_type": "markdown",
   "metadata": {
    "pycharm": {
     "name": "#%% md\n"
    }
   },
   "source": [
    "# SWIFT-AI-DS:\n",
    "## Simulating the stratospheric ozone layer: a comprehensive benchmark dataset to learn 24-hour ozone tendencies\n"
   ]
  },
  {
   "cell_type": "markdown",
   "metadata": {
    "pycharm": {
     "name": "#%% md\n"
    }
   },
   "source": [
    "## Download SWIFT-AI-DS"
   ]
  },
  {
   "cell_type": "markdown",
   "metadata": {
    "pycharm": {
     "name": "#%% md\n"
    }
   },
   "source": [
    "- Please follow the recommendations: https://wiki.pangaea.de/wiki/Download_many\n",
    "- Code repository related to the benchmark dataset: Mohn, H., Kreyling, D., Wohltmann, I., Lehmann, R., Rex, M., 2021. Benchmark dataset for 24-hour stratospheric ozone tendencies. https://doi.org/10.1594/PANGAEA.939121"
   ]
  },
  {
   "cell_type": "markdown",
   "metadata": {
    "pycharm": {
     "name": "#%% md\n"
    }
   },
   "source": [
    "## Load dataset (1 month)"
   ]
  },
  {
   "cell_type": "code",
   "execution_count": 13,
   "metadata": {},
   "outputs": [
    {
     "data": {
      "text/plain": "   modeldate  dayofyear  month    year    overhead      eqlat    sza_min  \\\n0   732620.0      309.0   11.0  2006.0  208.355116  30.096655  40.895671   \n1   732638.0      327.0   11.0  2006.0  276.097710 -58.565146  38.831657   \n2   729698.0      309.0   11.0  1998.0  123.078206 -66.150522  47.635712   \n3   730437.0      318.0   11.0  2000.0   52.766613  75.798628  93.340024   \n4   731912.0      332.0   11.0  2004.0  231.759167  -6.925461  10.387967   \n\n   sunlight_hours    O2+hv->O+O  O3+hv->O2+O(1D)  ...  HOy_gasphase  \\\n0       10.948785  2.119803e-13     5.272382e-05  ...      0.000006   \n1       17.234144  7.034630e-14     3.555705e-05  ...      0.000006   \n2       16.764788  3.902720e-12     8.581464e-05  ...      0.000006   \n3        0.000000  6.487131e-15     5.024966e-08  ...      0.000007   \n4       12.602921  7.975782e-13     6.332704e-05  ...      0.000005   \n\n             Ox           dOx          dCly  dCly_gasphase          dBry  \\\n0  4.258655e-07  1.047499e-09  3.745072e-13   3.745413e-13  9.518349e-15   \n1  9.288612e-07 -5.934087e-10  2.725919e-13   2.725918e-13  5.855540e-15   \n2  3.812439e-06 -3.432576e-08  6.027016e-14   6.027016e-14  1.487438e-15   \n3  3.487968e-06 -5.250936e-10  1.126703e-20   1.126703e-20 -3.072552e-17   \n4  3.162776e-07  6.623941e-09  1.155073e-12   1.017155e-12  3.256661e-14   \n\n           dNOy  dNOy_gasphase          dHOy  dHOy_gasphase  \n0  7.880632e-13   7.912741e-13  4.791910e-11   4.791910e-11  \n1  1.184276e-12   1.184276e-12  9.674706e-11   9.674706e-11  \n2  1.407747e-12   1.407747e-12  1.628907e-10   1.628907e-10  \n3 -1.175428e-14  -1.175428e-14 -6.276421e-16  -6.276421e-16  \n4  8.917310e-13   7.577042e-13  6.453393e-11   6.453393e-11  \n\n[5 rows x 82 columns]",
      "text/html": "<div>\n<style scoped>\n    .dataframe tbody tr th:only-of-type {\n        vertical-align: middle;\n    }\n\n    .dataframe tbody tr th {\n        vertical-align: top;\n    }\n\n    .dataframe thead th {\n        text-align: right;\n    }\n</style>\n<table border=\"1\" class=\"dataframe\">\n  <thead>\n    <tr style=\"text-align: right;\">\n      <th></th>\n      <th>modeldate</th>\n      <th>dayofyear</th>\n      <th>month</th>\n      <th>year</th>\n      <th>overhead</th>\n      <th>eqlat</th>\n      <th>sza_min</th>\n      <th>sunlight_hours</th>\n      <th>O2+hv-&gt;O+O</th>\n      <th>O3+hv-&gt;O2+O(1D)</th>\n      <th>...</th>\n      <th>HOy_gasphase</th>\n      <th>Ox</th>\n      <th>dOx</th>\n      <th>dCly</th>\n      <th>dCly_gasphase</th>\n      <th>dBry</th>\n      <th>dNOy</th>\n      <th>dNOy_gasphase</th>\n      <th>dHOy</th>\n      <th>dHOy_gasphase</th>\n    </tr>\n  </thead>\n  <tbody>\n    <tr>\n      <th>0</th>\n      <td>732620.0</td>\n      <td>309.0</td>\n      <td>11.0</td>\n      <td>2006.0</td>\n      <td>208.355116</td>\n      <td>30.096655</td>\n      <td>40.895671</td>\n      <td>10.948785</td>\n      <td>2.119803e-13</td>\n      <td>5.272382e-05</td>\n      <td>...</td>\n      <td>0.000006</td>\n      <td>4.258655e-07</td>\n      <td>1.047499e-09</td>\n      <td>3.745072e-13</td>\n      <td>3.745413e-13</td>\n      <td>9.518349e-15</td>\n      <td>7.880632e-13</td>\n      <td>7.912741e-13</td>\n      <td>4.791910e-11</td>\n      <td>4.791910e-11</td>\n    </tr>\n    <tr>\n      <th>1</th>\n      <td>732638.0</td>\n      <td>327.0</td>\n      <td>11.0</td>\n      <td>2006.0</td>\n      <td>276.097710</td>\n      <td>-58.565146</td>\n      <td>38.831657</td>\n      <td>17.234144</td>\n      <td>7.034630e-14</td>\n      <td>3.555705e-05</td>\n      <td>...</td>\n      <td>0.000006</td>\n      <td>9.288612e-07</td>\n      <td>-5.934087e-10</td>\n      <td>2.725919e-13</td>\n      <td>2.725918e-13</td>\n      <td>5.855540e-15</td>\n      <td>1.184276e-12</td>\n      <td>1.184276e-12</td>\n      <td>9.674706e-11</td>\n      <td>9.674706e-11</td>\n    </tr>\n    <tr>\n      <th>2</th>\n      <td>729698.0</td>\n      <td>309.0</td>\n      <td>11.0</td>\n      <td>1998.0</td>\n      <td>123.078206</td>\n      <td>-66.150522</td>\n      <td>47.635712</td>\n      <td>16.764788</td>\n      <td>3.902720e-12</td>\n      <td>8.581464e-05</td>\n      <td>...</td>\n      <td>0.000006</td>\n      <td>3.812439e-06</td>\n      <td>-3.432576e-08</td>\n      <td>6.027016e-14</td>\n      <td>6.027016e-14</td>\n      <td>1.487438e-15</td>\n      <td>1.407747e-12</td>\n      <td>1.407747e-12</td>\n      <td>1.628907e-10</td>\n      <td>1.628907e-10</td>\n    </tr>\n    <tr>\n      <th>3</th>\n      <td>730437.0</td>\n      <td>318.0</td>\n      <td>11.0</td>\n      <td>2000.0</td>\n      <td>52.766613</td>\n      <td>75.798628</td>\n      <td>93.340024</td>\n      <td>0.000000</td>\n      <td>6.487131e-15</td>\n      <td>5.024966e-08</td>\n      <td>...</td>\n      <td>0.000007</td>\n      <td>3.487968e-06</td>\n      <td>-5.250936e-10</td>\n      <td>1.126703e-20</td>\n      <td>1.126703e-20</td>\n      <td>-3.072552e-17</td>\n      <td>-1.175428e-14</td>\n      <td>-1.175428e-14</td>\n      <td>-6.276421e-16</td>\n      <td>-6.276421e-16</td>\n    </tr>\n    <tr>\n      <th>4</th>\n      <td>731912.0</td>\n      <td>332.0</td>\n      <td>11.0</td>\n      <td>2004.0</td>\n      <td>231.759167</td>\n      <td>-6.925461</td>\n      <td>10.387967</td>\n      <td>12.602921</td>\n      <td>7.975782e-13</td>\n      <td>6.332704e-05</td>\n      <td>...</td>\n      <td>0.000005</td>\n      <td>3.162776e-07</td>\n      <td>6.623941e-09</td>\n      <td>1.155073e-12</td>\n      <td>1.017155e-12</td>\n      <td>3.256661e-14</td>\n      <td>8.917310e-13</td>\n      <td>7.577042e-13</td>\n      <td>6.453393e-11</td>\n      <td>6.453393e-11</td>\n    </tr>\n  </tbody>\n</table>\n<p>5 rows × 82 columns</p>\n</div>"
     },
     "execution_count": 13,
     "metadata": {},
     "output_type": "execute_result"
    }
   ],
   "source": [
    "# select month 1 .. 12\n",
    "month = 11\n",
    "path_to_dir = 'data/'\n",
    "\n",
    "from tools.load_dataset import load_dataset\n",
    "ds = load_dataset(path_to_dir, month, train=False)\n",
    "\n",
    "from tools.extract_samples import extract_samples\n",
    "df = extract_samples(ds, 100)\n",
    "df.head()"
   ]
  },
  {
   "cell_type": "code",
   "execution_count": 14,
   "metadata": {
    "pycharm": {
     "name": "#%%\n"
    }
   },
   "outputs": [
    {
     "data": {
      "text/plain": "           modeldate   dayofyear  month         year    overhead       eqlat  \\\ncount     100.000000  100.000000  100.0   100.000000  100.000000  100.000000   \nmean   731084.630000  318.770000   11.0  2001.770000  156.132573   -3.394292   \nstd      1159.045128    8.499382    0.0     3.174567   74.312404   40.648152   \nmin    729696.000000  305.000000   11.0  1998.000000   31.239060  -84.381918   \n25%    730067.750000  311.000000   11.0  1999.000000   84.937106  -38.005267   \n50%    730443.500000  319.000000   11.0  2000.000000  157.062355   -4.044060   \n75%    732258.000000  326.000000   11.0  2005.000000  216.252095   29.257029   \nmax    732645.000000  334.000000   11.0  2006.000000  295.489357   78.275058   \n\n          sza_min  sunlight_hours    O2+hv->O+O  O3+hv->O2+O(1D)  ...  \\\ncount  100.000000      100.000000  1.000000e+02     1.000000e+02  ...   \nmean    36.294931       12.227105  1.279419e-11     9.667044e-05  ...   \nstd     23.511528        3.391376  2.137027e-11     7.627354e-05  ...   \nmin      3.065058        0.000000  5.211555e-17     5.024966e-08  ...   \n25%     17.829106       10.274854  1.278906e-13     5.023333e-05  ...   \n50%     33.626266       12.316681  1.511740e-12     6.854582e-05  ...   \n75%     52.708127       13.888335  1.858163e-11     1.377191e-04  ...   \nmax     93.340024       24.000000  8.817630e-11     3.314360e-04  ...   \n\n       HOy_gasphase            Ox           dOx          dCly  dCly_gasphase  \\\ncount    100.000000  1.000000e+02  1.000000e+02  1.000000e+02   1.000000e+02   \nmean       0.000005  3.712854e-06  9.724749e-11  1.615094e-12   1.623554e-12   \nstd        0.000001  3.010919e-06  3.502873e-08  3.844414e-12   4.176638e-12   \nmin        0.000002  5.000000e-08 -1.402331e-07  1.126703e-20  -1.099644e-11   \n25%        0.000005  6.387019e-07 -5.783545e-09  1.467545e-13   1.382581e-13   \n50%        0.000005  3.919017e-06  3.368271e-10  4.077422e-13   4.325296e-13   \n75%        0.000006  6.165565e-06  5.741523e-09  1.299175e-12   1.345468e-12   \nmax        0.000009  1.041880e-05  1.329116e-07  2.688505e-11   2.688505e-11   \n\n               dBry          dNOy  dNOy_gasphase          dHOy  dHOy_gasphase  \ncount  1.000000e+02  1.000000e+02   1.000000e+02  1.000000e+02   1.000000e+02  \nmean   2.723324e-14  7.005436e-12   6.981639e-12  2.731767e-10   2.731767e-10  \nstd    8.396486e-14  1.141830e-11   1.143838e-11  3.484861e-10   3.484861e-10  \nmin   -3.072552e-17 -1.175428e-14  -3.094830e-12 -9.106979e-11  -9.106979e-11  \n25%    1.113423e-15  5.949415e-13   5.815656e-13  4.790868e-11   4.790868e-11  \n50%    5.967570e-15  2.637482e-12   2.636443e-12  1.178233e-10   1.178233e-10  \n75%    2.091985e-14  8.154277e-12   8.154277e-12  3.577908e-10   3.577908e-10  \nmax    7.298442e-13  6.615503e-11   6.615503e-11  1.465099e-09   1.465099e-09  \n\n[8 rows x 82 columns]",
      "text/html": "<div>\n<style scoped>\n    .dataframe tbody tr th:only-of-type {\n        vertical-align: middle;\n    }\n\n    .dataframe tbody tr th {\n        vertical-align: top;\n    }\n\n    .dataframe thead th {\n        text-align: right;\n    }\n</style>\n<table border=\"1\" class=\"dataframe\">\n  <thead>\n    <tr style=\"text-align: right;\">\n      <th></th>\n      <th>modeldate</th>\n      <th>dayofyear</th>\n      <th>month</th>\n      <th>year</th>\n      <th>overhead</th>\n      <th>eqlat</th>\n      <th>sza_min</th>\n      <th>sunlight_hours</th>\n      <th>O2+hv-&gt;O+O</th>\n      <th>O3+hv-&gt;O2+O(1D)</th>\n      <th>...</th>\n      <th>HOy_gasphase</th>\n      <th>Ox</th>\n      <th>dOx</th>\n      <th>dCly</th>\n      <th>dCly_gasphase</th>\n      <th>dBry</th>\n      <th>dNOy</th>\n      <th>dNOy_gasphase</th>\n      <th>dHOy</th>\n      <th>dHOy_gasphase</th>\n    </tr>\n  </thead>\n  <tbody>\n    <tr>\n      <th>count</th>\n      <td>100.000000</td>\n      <td>100.000000</td>\n      <td>100.0</td>\n      <td>100.000000</td>\n      <td>100.000000</td>\n      <td>100.000000</td>\n      <td>100.000000</td>\n      <td>100.000000</td>\n      <td>1.000000e+02</td>\n      <td>1.000000e+02</td>\n      <td>...</td>\n      <td>100.000000</td>\n      <td>1.000000e+02</td>\n      <td>1.000000e+02</td>\n      <td>1.000000e+02</td>\n      <td>1.000000e+02</td>\n      <td>1.000000e+02</td>\n      <td>1.000000e+02</td>\n      <td>1.000000e+02</td>\n      <td>1.000000e+02</td>\n      <td>1.000000e+02</td>\n    </tr>\n    <tr>\n      <th>mean</th>\n      <td>731084.630000</td>\n      <td>318.770000</td>\n      <td>11.0</td>\n      <td>2001.770000</td>\n      <td>156.132573</td>\n      <td>-3.394292</td>\n      <td>36.294931</td>\n      <td>12.227105</td>\n      <td>1.279419e-11</td>\n      <td>9.667044e-05</td>\n      <td>...</td>\n      <td>0.000005</td>\n      <td>3.712854e-06</td>\n      <td>9.724749e-11</td>\n      <td>1.615094e-12</td>\n      <td>1.623554e-12</td>\n      <td>2.723324e-14</td>\n      <td>7.005436e-12</td>\n      <td>6.981639e-12</td>\n      <td>2.731767e-10</td>\n      <td>2.731767e-10</td>\n    </tr>\n    <tr>\n      <th>std</th>\n      <td>1159.045128</td>\n      <td>8.499382</td>\n      <td>0.0</td>\n      <td>3.174567</td>\n      <td>74.312404</td>\n      <td>40.648152</td>\n      <td>23.511528</td>\n      <td>3.391376</td>\n      <td>2.137027e-11</td>\n      <td>7.627354e-05</td>\n      <td>...</td>\n      <td>0.000001</td>\n      <td>3.010919e-06</td>\n      <td>3.502873e-08</td>\n      <td>3.844414e-12</td>\n      <td>4.176638e-12</td>\n      <td>8.396486e-14</td>\n      <td>1.141830e-11</td>\n      <td>1.143838e-11</td>\n      <td>3.484861e-10</td>\n      <td>3.484861e-10</td>\n    </tr>\n    <tr>\n      <th>min</th>\n      <td>729696.000000</td>\n      <td>305.000000</td>\n      <td>11.0</td>\n      <td>1998.000000</td>\n      <td>31.239060</td>\n      <td>-84.381918</td>\n      <td>3.065058</td>\n      <td>0.000000</td>\n      <td>5.211555e-17</td>\n      <td>5.024966e-08</td>\n      <td>...</td>\n      <td>0.000002</td>\n      <td>5.000000e-08</td>\n      <td>-1.402331e-07</td>\n      <td>1.126703e-20</td>\n      <td>-1.099644e-11</td>\n      <td>-3.072552e-17</td>\n      <td>-1.175428e-14</td>\n      <td>-3.094830e-12</td>\n      <td>-9.106979e-11</td>\n      <td>-9.106979e-11</td>\n    </tr>\n    <tr>\n      <th>25%</th>\n      <td>730067.750000</td>\n      <td>311.000000</td>\n      <td>11.0</td>\n      <td>1999.000000</td>\n      <td>84.937106</td>\n      <td>-38.005267</td>\n      <td>17.829106</td>\n      <td>10.274854</td>\n      <td>1.278906e-13</td>\n      <td>5.023333e-05</td>\n      <td>...</td>\n      <td>0.000005</td>\n      <td>6.387019e-07</td>\n      <td>-5.783545e-09</td>\n      <td>1.467545e-13</td>\n      <td>1.382581e-13</td>\n      <td>1.113423e-15</td>\n      <td>5.949415e-13</td>\n      <td>5.815656e-13</td>\n      <td>4.790868e-11</td>\n      <td>4.790868e-11</td>\n    </tr>\n    <tr>\n      <th>50%</th>\n      <td>730443.500000</td>\n      <td>319.000000</td>\n      <td>11.0</td>\n      <td>2000.000000</td>\n      <td>157.062355</td>\n      <td>-4.044060</td>\n      <td>33.626266</td>\n      <td>12.316681</td>\n      <td>1.511740e-12</td>\n      <td>6.854582e-05</td>\n      <td>...</td>\n      <td>0.000005</td>\n      <td>3.919017e-06</td>\n      <td>3.368271e-10</td>\n      <td>4.077422e-13</td>\n      <td>4.325296e-13</td>\n      <td>5.967570e-15</td>\n      <td>2.637482e-12</td>\n      <td>2.636443e-12</td>\n      <td>1.178233e-10</td>\n      <td>1.178233e-10</td>\n    </tr>\n    <tr>\n      <th>75%</th>\n      <td>732258.000000</td>\n      <td>326.000000</td>\n      <td>11.0</td>\n      <td>2005.000000</td>\n      <td>216.252095</td>\n      <td>29.257029</td>\n      <td>52.708127</td>\n      <td>13.888335</td>\n      <td>1.858163e-11</td>\n      <td>1.377191e-04</td>\n      <td>...</td>\n      <td>0.000006</td>\n      <td>6.165565e-06</td>\n      <td>5.741523e-09</td>\n      <td>1.299175e-12</td>\n      <td>1.345468e-12</td>\n      <td>2.091985e-14</td>\n      <td>8.154277e-12</td>\n      <td>8.154277e-12</td>\n      <td>3.577908e-10</td>\n      <td>3.577908e-10</td>\n    </tr>\n    <tr>\n      <th>max</th>\n      <td>732645.000000</td>\n      <td>334.000000</td>\n      <td>11.0</td>\n      <td>2006.000000</td>\n      <td>295.489357</td>\n      <td>78.275058</td>\n      <td>93.340024</td>\n      <td>24.000000</td>\n      <td>8.817630e-11</td>\n      <td>3.314360e-04</td>\n      <td>...</td>\n      <td>0.000009</td>\n      <td>1.041880e-05</td>\n      <td>1.329116e-07</td>\n      <td>2.688505e-11</td>\n      <td>2.688505e-11</td>\n      <td>7.298442e-13</td>\n      <td>6.615503e-11</td>\n      <td>6.615503e-11</td>\n      <td>1.465099e-09</td>\n      <td>1.465099e-09</td>\n    </tr>\n  </tbody>\n</table>\n<p>8 rows × 82 columns</p>\n</div>"
     },
     "execution_count": 14,
     "metadata": {},
     "output_type": "execute_result"
    }
   ],
   "source": [
    "df.describe()"
   ]
  },
  {
   "cell_type": "markdown",
   "source": [
    "## Load dataset (1 month) using a time window of three month"
   ],
   "metadata": {
    "collapsed": false
   }
  },
  {
   "cell_type": "code",
   "execution_count": 15,
   "metadata": {},
   "outputs": [
    {
     "data": {
      "text/plain": "   modeldate  dayofyear  month    year    overhead      eqlat    sza_min  \\\n0   731895.0      315.0   11.0  2004.0  239.206894 -16.234050   8.739141   \n1   729701.0      312.0   11.0  1998.0  259.481449  42.368019  59.289005   \n2   730065.0      311.0   11.0  1999.0  218.511222   3.395586  17.452138   \n3   730077.0      323.0   11.0  1999.0  247.628493 -27.378194   9.243109   \n4   732603.0      292.0   10.0  2006.0  215.236530   8.464814  18.311164   \n\n   sunlight_hours    O2+hv->O+O  O3+hv->O2+O(1D)  ...  HOy_gasphase  \\\n0       12.416010  4.073964e-13         0.000064  ...      0.000004   \n1        9.790227  9.645964e-16         0.000019  ...      0.000005   \n2       11.969346  3.638559e-13         0.000073  ...      0.000005   \n3       13.483540  1.467784e-14         0.000075  ...      0.000021   \n4       11.796171  1.489496e-12         0.000064  ...      0.000004   \n\n             Ox           dOx          dCly  dCly_gasphase          dBry  \\\n0  1.483311e-07  3.043368e-09  5.492146e-13   5.647266e-13  1.619132e-14   \n1  5.657630e-07 -1.698067e-10  7.977474e-14   7.947020e-14  1.974983e-15   \n2  1.149953e-07  1.777800e-09  4.059097e-13   5.587723e-13  1.122650e-14   \n3  7.992528e-08  2.358304e-10  2.109597e-13   2.109739e-13  6.008661e-15   \n4  1.197922e-06  7.769233e-09  1.638646e-12   1.638646e-12  3.592580e-14   \n\n           dNOy  dNOy_gasphase          dHOy  dHOy_gasphase  \n0  3.977892e-13   3.989367e-13  3.699165e-11   3.699165e-11  \n1  3.317634e-13   2.931465e-13  3.187969e-11   3.187969e-11  \n2  3.124354e-13   3.242585e-13  1.191105e-11   1.191105e-11  \n3  2.264902e-13   2.264902e-13  3.534458e-11   3.534458e-11  \n4  3.165183e-12   3.165040e-12  8.963419e-11   8.963419e-11  \n\n[5 rows x 82 columns]",
      "text/html": "<div>\n<style scoped>\n    .dataframe tbody tr th:only-of-type {\n        vertical-align: middle;\n    }\n\n    .dataframe tbody tr th {\n        vertical-align: top;\n    }\n\n    .dataframe thead th {\n        text-align: right;\n    }\n</style>\n<table border=\"1\" class=\"dataframe\">\n  <thead>\n    <tr style=\"text-align: right;\">\n      <th></th>\n      <th>modeldate</th>\n      <th>dayofyear</th>\n      <th>month</th>\n      <th>year</th>\n      <th>overhead</th>\n      <th>eqlat</th>\n      <th>sza_min</th>\n      <th>sunlight_hours</th>\n      <th>O2+hv-&gt;O+O</th>\n      <th>O3+hv-&gt;O2+O(1D)</th>\n      <th>...</th>\n      <th>HOy_gasphase</th>\n      <th>Ox</th>\n      <th>dOx</th>\n      <th>dCly</th>\n      <th>dCly_gasphase</th>\n      <th>dBry</th>\n      <th>dNOy</th>\n      <th>dNOy_gasphase</th>\n      <th>dHOy</th>\n      <th>dHOy_gasphase</th>\n    </tr>\n  </thead>\n  <tbody>\n    <tr>\n      <th>0</th>\n      <td>731895.0</td>\n      <td>315.0</td>\n      <td>11.0</td>\n      <td>2004.0</td>\n      <td>239.206894</td>\n      <td>-16.234050</td>\n      <td>8.739141</td>\n      <td>12.416010</td>\n      <td>4.073964e-13</td>\n      <td>0.000064</td>\n      <td>...</td>\n      <td>0.000004</td>\n      <td>1.483311e-07</td>\n      <td>3.043368e-09</td>\n      <td>5.492146e-13</td>\n      <td>5.647266e-13</td>\n      <td>1.619132e-14</td>\n      <td>3.977892e-13</td>\n      <td>3.989367e-13</td>\n      <td>3.699165e-11</td>\n      <td>3.699165e-11</td>\n    </tr>\n    <tr>\n      <th>1</th>\n      <td>729701.0</td>\n      <td>312.0</td>\n      <td>11.0</td>\n      <td>1998.0</td>\n      <td>259.481449</td>\n      <td>42.368019</td>\n      <td>59.289005</td>\n      <td>9.790227</td>\n      <td>9.645964e-16</td>\n      <td>0.000019</td>\n      <td>...</td>\n      <td>0.000005</td>\n      <td>5.657630e-07</td>\n      <td>-1.698067e-10</td>\n      <td>7.977474e-14</td>\n      <td>7.947020e-14</td>\n      <td>1.974983e-15</td>\n      <td>3.317634e-13</td>\n      <td>2.931465e-13</td>\n      <td>3.187969e-11</td>\n      <td>3.187969e-11</td>\n    </tr>\n    <tr>\n      <th>2</th>\n      <td>730065.0</td>\n      <td>311.0</td>\n      <td>11.0</td>\n      <td>1999.0</td>\n      <td>218.511222</td>\n      <td>3.395586</td>\n      <td>17.452138</td>\n      <td>11.969346</td>\n      <td>3.638559e-13</td>\n      <td>0.000073</td>\n      <td>...</td>\n      <td>0.000005</td>\n      <td>1.149953e-07</td>\n      <td>1.777800e-09</td>\n      <td>4.059097e-13</td>\n      <td>5.587723e-13</td>\n      <td>1.122650e-14</td>\n      <td>3.124354e-13</td>\n      <td>3.242585e-13</td>\n      <td>1.191105e-11</td>\n      <td>1.191105e-11</td>\n    </tr>\n    <tr>\n      <th>3</th>\n      <td>730077.0</td>\n      <td>323.0</td>\n      <td>11.0</td>\n      <td>1999.0</td>\n      <td>247.628493</td>\n      <td>-27.378194</td>\n      <td>9.243109</td>\n      <td>13.483540</td>\n      <td>1.467784e-14</td>\n      <td>0.000075</td>\n      <td>...</td>\n      <td>0.000021</td>\n      <td>7.992528e-08</td>\n      <td>2.358304e-10</td>\n      <td>2.109597e-13</td>\n      <td>2.109739e-13</td>\n      <td>6.008661e-15</td>\n      <td>2.264902e-13</td>\n      <td>2.264902e-13</td>\n      <td>3.534458e-11</td>\n      <td>3.534458e-11</td>\n    </tr>\n    <tr>\n      <th>4</th>\n      <td>732603.0</td>\n      <td>292.0</td>\n      <td>10.0</td>\n      <td>2006.0</td>\n      <td>215.236530</td>\n      <td>8.464814</td>\n      <td>18.311164</td>\n      <td>11.796171</td>\n      <td>1.489496e-12</td>\n      <td>0.000064</td>\n      <td>...</td>\n      <td>0.000004</td>\n      <td>1.197922e-06</td>\n      <td>7.769233e-09</td>\n      <td>1.638646e-12</td>\n      <td>1.638646e-12</td>\n      <td>3.592580e-14</td>\n      <td>3.165183e-12</td>\n      <td>3.165040e-12</td>\n      <td>8.963419e-11</td>\n      <td>8.963419e-11</td>\n    </tr>\n  </tbody>\n</table>\n<p>5 rows × 82 columns</p>\n</div>"
     },
     "execution_count": 15,
     "metadata": {},
     "output_type": "execute_result"
    }
   ],
   "source": [
    "# select month 1 .. 12\n",
    "month = 11\n",
    "path_to_dir = '../datasets/input_monthly/PANGAEA/SWIFT-AI-DS-EXT/test/'\n",
    "\n",
    "#from tools.get_list_filenames_three_months_window import get_list_filenames_three_months_window\n",
    "#paths_to_files = get_list_filenames_three_months_window(path_to_dir, month = month, train = False)\n",
    "from tools.load_dataset_three_months_window import load_dataset_three_months_window\n",
    "ds = load_dataset_three_months_window(path_to_dir, month)\n",
    "\n",
    "from tools.extract_samples import extract_samples\n",
    "df = extract_samples(ds, 100)\n",
    "df.head()"
   ]
  },
  {
   "cell_type": "code",
   "execution_count": 16,
   "outputs": [
    {
     "data": {
      "text/plain": "           modeldate   dayofyear       month         year    overhead  \\\ncount     100.000000  100.000000  100.000000   100.000000  100.000000   \nmean   731258.600000  321.060000   11.040000  2002.240000  170.738354   \nstd      1119.968831   24.171868    0.737454     3.075219   74.815492   \nmin    729695.000000  274.000000   10.000000  1998.000000   39.283994   \n25%    730074.250000  304.750000   10.750000  1999.000000   93.097895   \n50%    731908.000000  322.000000   11.000000  2004.000000  187.201922   \n75%    732250.750000  338.000000   12.000000  2005.000000  226.232231   \nmax    732672.000000  364.000000   12.000000  2006.000000  318.451145   \n\n            eqlat     sza_min  sunlight_hours    O2+hv->O+O  O3+hv->O2+O(1D)  \\\ncount  100.000000  100.000000      100.000000  1.000000e+02     1.000000e+02   \nmean    -1.457833   36.631024       12.006515  1.040820e-11     8.754880e-05   \nstd     38.378721   22.031578        3.428653  1.910247e-11     7.016836e-05   \nmin    -74.529379    1.599585        0.000000  1.370573e-16     1.734796e-07   \n25%    -33.839696   19.423095       10.556209  5.606452e-14     4.243491e-05   \n50%      2.653400   33.157842       11.955478  9.359775e-13     6.915596e-05   \n75%     29.925792   52.051982       13.535770  8.683637e-12     1.022540e-04   \nmax     70.746104   91.404995       21.450612  7.734007e-11     3.032922e-04   \n\n       ...  HOy_gasphase            Ox           dOx          dCly  \\\ncount  ...    100.000000  1.000000e+02  1.000000e+02  1.000000e+02   \nmean   ...      0.000005  3.230184e-06  1.673908e-09  1.031465e-12   \nstd    ...      0.000002  2.918045e-06  3.703589e-08  1.382573e-12   \nmin    ...      0.000002  5.000000e-08 -1.836718e-07  2.597262e-16   \n25%    ...      0.000004  3.699551e-07 -5.827907e-09  1.602667e-13   \n50%    ...      0.000005  2.298272e-06  1.911753e-10  3.869738e-13   \n75%    ...      0.000006  5.698441e-06  5.920225e-09  1.230554e-12   \nmax    ...      0.000021  9.264805e-06  1.874023e-07  6.059723e-12   \n\n       dCly_gasphase          dBry          dNOy  dNOy_gasphase          dHOy  \\\ncount   1.000000e+02  1.000000e+02  1.000000e+02   1.000000e+02  1.000000e+02   \nmean    7.923992e-13  1.432591e-14  5.341114e-12   5.330642e-12  2.338930e-10   \nstd     2.163155e-12  2.138884e-14  7.580048e-12   7.587197e-12  3.234527e-10   \nmin    -1.285923e-11  1.097451e-18  4.962808e-15  -1.800885e-13 -1.618442e-10   \n25%     1.389806e-13  2.043319e-15  3.603731e-13   3.164805e-13  3.499900e-11   \n50%     3.633821e-13  5.059375e-15  1.914313e-12   1.911656e-12  9.004549e-11   \n75%     1.230554e-12  1.786373e-14  7.393487e-12   7.393487e-12  2.979400e-10   \nmax     6.059723e-12  1.033442e-13  4.371737e-11   4.371737e-11  1.375101e-09   \n\n       dHOy_gasphase  \ncount   1.000000e+02  \nmean    2.338930e-10  \nstd     3.234527e-10  \nmin    -1.618442e-10  \n25%     3.499900e-11  \n50%     9.004549e-11  \n75%     2.979400e-10  \nmax     1.375101e-09  \n\n[8 rows x 82 columns]",
      "text/html": "<div>\n<style scoped>\n    .dataframe tbody tr th:only-of-type {\n        vertical-align: middle;\n    }\n\n    .dataframe tbody tr th {\n        vertical-align: top;\n    }\n\n    .dataframe thead th {\n        text-align: right;\n    }\n</style>\n<table border=\"1\" class=\"dataframe\">\n  <thead>\n    <tr style=\"text-align: right;\">\n      <th></th>\n      <th>modeldate</th>\n      <th>dayofyear</th>\n      <th>month</th>\n      <th>year</th>\n      <th>overhead</th>\n      <th>eqlat</th>\n      <th>sza_min</th>\n      <th>sunlight_hours</th>\n      <th>O2+hv-&gt;O+O</th>\n      <th>O3+hv-&gt;O2+O(1D)</th>\n      <th>...</th>\n      <th>HOy_gasphase</th>\n      <th>Ox</th>\n      <th>dOx</th>\n      <th>dCly</th>\n      <th>dCly_gasphase</th>\n      <th>dBry</th>\n      <th>dNOy</th>\n      <th>dNOy_gasphase</th>\n      <th>dHOy</th>\n      <th>dHOy_gasphase</th>\n    </tr>\n  </thead>\n  <tbody>\n    <tr>\n      <th>count</th>\n      <td>100.000000</td>\n      <td>100.000000</td>\n      <td>100.000000</td>\n      <td>100.000000</td>\n      <td>100.000000</td>\n      <td>100.000000</td>\n      <td>100.000000</td>\n      <td>100.000000</td>\n      <td>1.000000e+02</td>\n      <td>1.000000e+02</td>\n      <td>...</td>\n      <td>100.000000</td>\n      <td>1.000000e+02</td>\n      <td>1.000000e+02</td>\n      <td>1.000000e+02</td>\n      <td>1.000000e+02</td>\n      <td>1.000000e+02</td>\n      <td>1.000000e+02</td>\n      <td>1.000000e+02</td>\n      <td>1.000000e+02</td>\n      <td>1.000000e+02</td>\n    </tr>\n    <tr>\n      <th>mean</th>\n      <td>731258.600000</td>\n      <td>321.060000</td>\n      <td>11.040000</td>\n      <td>2002.240000</td>\n      <td>170.738354</td>\n      <td>-1.457833</td>\n      <td>36.631024</td>\n      <td>12.006515</td>\n      <td>1.040820e-11</td>\n      <td>8.754880e-05</td>\n      <td>...</td>\n      <td>0.000005</td>\n      <td>3.230184e-06</td>\n      <td>1.673908e-09</td>\n      <td>1.031465e-12</td>\n      <td>7.923992e-13</td>\n      <td>1.432591e-14</td>\n      <td>5.341114e-12</td>\n      <td>5.330642e-12</td>\n      <td>2.338930e-10</td>\n      <td>2.338930e-10</td>\n    </tr>\n    <tr>\n      <th>std</th>\n      <td>1119.968831</td>\n      <td>24.171868</td>\n      <td>0.737454</td>\n      <td>3.075219</td>\n      <td>74.815492</td>\n      <td>38.378721</td>\n      <td>22.031578</td>\n      <td>3.428653</td>\n      <td>1.910247e-11</td>\n      <td>7.016836e-05</td>\n      <td>...</td>\n      <td>0.000002</td>\n      <td>2.918045e-06</td>\n      <td>3.703589e-08</td>\n      <td>1.382573e-12</td>\n      <td>2.163155e-12</td>\n      <td>2.138884e-14</td>\n      <td>7.580048e-12</td>\n      <td>7.587197e-12</td>\n      <td>3.234527e-10</td>\n      <td>3.234527e-10</td>\n    </tr>\n    <tr>\n      <th>min</th>\n      <td>729695.000000</td>\n      <td>274.000000</td>\n      <td>10.000000</td>\n      <td>1998.000000</td>\n      <td>39.283994</td>\n      <td>-74.529379</td>\n      <td>1.599585</td>\n      <td>0.000000</td>\n      <td>1.370573e-16</td>\n      <td>1.734796e-07</td>\n      <td>...</td>\n      <td>0.000002</td>\n      <td>5.000000e-08</td>\n      <td>-1.836718e-07</td>\n      <td>2.597262e-16</td>\n      <td>-1.285923e-11</td>\n      <td>1.097451e-18</td>\n      <td>4.962808e-15</td>\n      <td>-1.800885e-13</td>\n      <td>-1.618442e-10</td>\n      <td>-1.618442e-10</td>\n    </tr>\n    <tr>\n      <th>25%</th>\n      <td>730074.250000</td>\n      <td>304.750000</td>\n      <td>10.750000</td>\n      <td>1999.000000</td>\n      <td>93.097895</td>\n      <td>-33.839696</td>\n      <td>19.423095</td>\n      <td>10.556209</td>\n      <td>5.606452e-14</td>\n      <td>4.243491e-05</td>\n      <td>...</td>\n      <td>0.000004</td>\n      <td>3.699551e-07</td>\n      <td>-5.827907e-09</td>\n      <td>1.602667e-13</td>\n      <td>1.389806e-13</td>\n      <td>2.043319e-15</td>\n      <td>3.603731e-13</td>\n      <td>3.164805e-13</td>\n      <td>3.499900e-11</td>\n      <td>3.499900e-11</td>\n    </tr>\n    <tr>\n      <th>50%</th>\n      <td>731908.000000</td>\n      <td>322.000000</td>\n      <td>11.000000</td>\n      <td>2004.000000</td>\n      <td>187.201922</td>\n      <td>2.653400</td>\n      <td>33.157842</td>\n      <td>11.955478</td>\n      <td>9.359775e-13</td>\n      <td>6.915596e-05</td>\n      <td>...</td>\n      <td>0.000005</td>\n      <td>2.298272e-06</td>\n      <td>1.911753e-10</td>\n      <td>3.869738e-13</td>\n      <td>3.633821e-13</td>\n      <td>5.059375e-15</td>\n      <td>1.914313e-12</td>\n      <td>1.911656e-12</td>\n      <td>9.004549e-11</td>\n      <td>9.004549e-11</td>\n    </tr>\n    <tr>\n      <th>75%</th>\n      <td>732250.750000</td>\n      <td>338.000000</td>\n      <td>12.000000</td>\n      <td>2005.000000</td>\n      <td>226.232231</td>\n      <td>29.925792</td>\n      <td>52.051982</td>\n      <td>13.535770</td>\n      <td>8.683637e-12</td>\n      <td>1.022540e-04</td>\n      <td>...</td>\n      <td>0.000006</td>\n      <td>5.698441e-06</td>\n      <td>5.920225e-09</td>\n      <td>1.230554e-12</td>\n      <td>1.230554e-12</td>\n      <td>1.786373e-14</td>\n      <td>7.393487e-12</td>\n      <td>7.393487e-12</td>\n      <td>2.979400e-10</td>\n      <td>2.979400e-10</td>\n    </tr>\n    <tr>\n      <th>max</th>\n      <td>732672.000000</td>\n      <td>364.000000</td>\n      <td>12.000000</td>\n      <td>2006.000000</td>\n      <td>318.451145</td>\n      <td>70.746104</td>\n      <td>91.404995</td>\n      <td>21.450612</td>\n      <td>7.734007e-11</td>\n      <td>3.032922e-04</td>\n      <td>...</td>\n      <td>0.000021</td>\n      <td>9.264805e-06</td>\n      <td>1.874023e-07</td>\n      <td>6.059723e-12</td>\n      <td>6.059723e-12</td>\n      <td>1.033442e-13</td>\n      <td>4.371737e-11</td>\n      <td>4.371737e-11</td>\n      <td>1.375101e-09</td>\n      <td>1.375101e-09</td>\n    </tr>\n  </tbody>\n</table>\n<p>8 rows × 82 columns</p>\n</div>"
     },
     "execution_count": 16,
     "metadata": {},
     "output_type": "execute_result"
    }
   ],
   "source": [
    "df.describe()"
   ],
   "metadata": {
    "collapsed": false,
    "pycharm": {
     "name": "#%%\n"
    }
   }
  },
  {
   "cell_type": "markdown",
   "source": [
    "# Load dataset of all twelve month (whole dataset)"
   ],
   "metadata": {
    "collapsed": false
   }
  },
  {
   "cell_type": "code",
   "execution_count": 17,
   "outputs": [
    {
     "data": {
      "text/plain": "   modeldate  dayofyear  month    year    overhead      eqlat    sza_min  \\\n0   729947.0      193.0    7.0  1999.0   69.924764 -59.255320  82.839316   \n1   731917.0      337.0   12.0  2004.0  268.930236  43.058568  66.126416   \n2   730353.0      234.0    8.0  2000.0  172.507352 -38.328237  44.408933   \n3   732308.0      362.0   12.0  2005.0  205.147164  33.953086  51.570306   \n4   732607.0      296.0   10.0  2006.0  210.767147 -17.367487   3.830214   \n\n   sunlight_hours    O2+hv->O+O  O3+hv->O2+O(1D)  ...  HOy_gasphase  \\\n0        5.808239  1.469526e-13         0.000014  ...      0.000005   \n1        8.885490  4.901637e-17         0.000012  ...      0.000006   \n2       11.003550  1.288588e-12         0.000057  ...      0.000005   \n3       10.213265  1.931984e-14         0.000042  ...      0.000005   \n4       12.330335  2.039321e-12         0.000071  ...      0.000004   \n\n             Ox           dOx          dCly  dCly_gasphase          dBry  \\\n0  4.331439e-06 -1.126221e-08  1.035127e-14   5.749104e-15  5.296148e-17   \n1  3.080559e-07 -1.473197e-10  5.813512e-14   5.813818e-14  1.388085e-15   \n2  4.006216e-06 -5.376954e-09  4.105389e-13   4.105390e-13  4.704478e-15   \n3  6.433838e-08  1.177557e-10  4.427057e-14   4.411630e-14  1.921854e-15   \n4  2.077653e-06  1.017548e-08  1.638734e-12   1.638732e-12  3.503062e-14   \n\n           dNOy  dNOy_gasphase          dHOy  dHOy_gasphase  \n0  2.363530e-13  -4.359352e-14 -4.494945e-11  -4.494945e-11  \n1  6.387182e-14   6.387182e-14  1.513953e-11   1.513953e-11  \n2  3.263975e-12   3.263975e-12  1.329144e-10   1.329144e-10  \n3  8.796191e-14   8.750369e-14  4.178843e-12   4.178843e-12  \n4  5.224345e-12   5.222601e-12  1.427525e-10   1.427525e-10  \n\n[5 rows x 82 columns]",
      "text/html": "<div>\n<style scoped>\n    .dataframe tbody tr th:only-of-type {\n        vertical-align: middle;\n    }\n\n    .dataframe tbody tr th {\n        vertical-align: top;\n    }\n\n    .dataframe thead th {\n        text-align: right;\n    }\n</style>\n<table border=\"1\" class=\"dataframe\">\n  <thead>\n    <tr style=\"text-align: right;\">\n      <th></th>\n      <th>modeldate</th>\n      <th>dayofyear</th>\n      <th>month</th>\n      <th>year</th>\n      <th>overhead</th>\n      <th>eqlat</th>\n      <th>sza_min</th>\n      <th>sunlight_hours</th>\n      <th>O2+hv-&gt;O+O</th>\n      <th>O3+hv-&gt;O2+O(1D)</th>\n      <th>...</th>\n      <th>HOy_gasphase</th>\n      <th>Ox</th>\n      <th>dOx</th>\n      <th>dCly</th>\n      <th>dCly_gasphase</th>\n      <th>dBry</th>\n      <th>dNOy</th>\n      <th>dNOy_gasphase</th>\n      <th>dHOy</th>\n      <th>dHOy_gasphase</th>\n    </tr>\n  </thead>\n  <tbody>\n    <tr>\n      <th>0</th>\n      <td>729947.0</td>\n      <td>193.0</td>\n      <td>7.0</td>\n      <td>1999.0</td>\n      <td>69.924764</td>\n      <td>-59.255320</td>\n      <td>82.839316</td>\n      <td>5.808239</td>\n      <td>1.469526e-13</td>\n      <td>0.000014</td>\n      <td>...</td>\n      <td>0.000005</td>\n      <td>4.331439e-06</td>\n      <td>-1.126221e-08</td>\n      <td>1.035127e-14</td>\n      <td>5.749104e-15</td>\n      <td>5.296148e-17</td>\n      <td>2.363530e-13</td>\n      <td>-4.359352e-14</td>\n      <td>-4.494945e-11</td>\n      <td>-4.494945e-11</td>\n    </tr>\n    <tr>\n      <th>1</th>\n      <td>731917.0</td>\n      <td>337.0</td>\n      <td>12.0</td>\n      <td>2004.0</td>\n      <td>268.930236</td>\n      <td>43.058568</td>\n      <td>66.126416</td>\n      <td>8.885490</td>\n      <td>4.901637e-17</td>\n      <td>0.000012</td>\n      <td>...</td>\n      <td>0.000006</td>\n      <td>3.080559e-07</td>\n      <td>-1.473197e-10</td>\n      <td>5.813512e-14</td>\n      <td>5.813818e-14</td>\n      <td>1.388085e-15</td>\n      <td>6.387182e-14</td>\n      <td>6.387182e-14</td>\n      <td>1.513953e-11</td>\n      <td>1.513953e-11</td>\n    </tr>\n    <tr>\n      <th>2</th>\n      <td>730353.0</td>\n      <td>234.0</td>\n      <td>8.0</td>\n      <td>2000.0</td>\n      <td>172.507352</td>\n      <td>-38.328237</td>\n      <td>44.408933</td>\n      <td>11.003550</td>\n      <td>1.288588e-12</td>\n      <td>0.000057</td>\n      <td>...</td>\n      <td>0.000005</td>\n      <td>4.006216e-06</td>\n      <td>-5.376954e-09</td>\n      <td>4.105389e-13</td>\n      <td>4.105390e-13</td>\n      <td>4.704478e-15</td>\n      <td>3.263975e-12</td>\n      <td>3.263975e-12</td>\n      <td>1.329144e-10</td>\n      <td>1.329144e-10</td>\n    </tr>\n    <tr>\n      <th>3</th>\n      <td>732308.0</td>\n      <td>362.0</td>\n      <td>12.0</td>\n      <td>2005.0</td>\n      <td>205.147164</td>\n      <td>33.953086</td>\n      <td>51.570306</td>\n      <td>10.213265</td>\n      <td>1.931984e-14</td>\n      <td>0.000042</td>\n      <td>...</td>\n      <td>0.000005</td>\n      <td>6.433838e-08</td>\n      <td>1.177557e-10</td>\n      <td>4.427057e-14</td>\n      <td>4.411630e-14</td>\n      <td>1.921854e-15</td>\n      <td>8.796191e-14</td>\n      <td>8.750369e-14</td>\n      <td>4.178843e-12</td>\n      <td>4.178843e-12</td>\n    </tr>\n    <tr>\n      <th>4</th>\n      <td>732607.0</td>\n      <td>296.0</td>\n      <td>10.0</td>\n      <td>2006.0</td>\n      <td>210.767147</td>\n      <td>-17.367487</td>\n      <td>3.830214</td>\n      <td>12.330335</td>\n      <td>2.039321e-12</td>\n      <td>0.000071</td>\n      <td>...</td>\n      <td>0.000004</td>\n      <td>2.077653e-06</td>\n      <td>1.017548e-08</td>\n      <td>1.638734e-12</td>\n      <td>1.638732e-12</td>\n      <td>3.503062e-14</td>\n      <td>5.224345e-12</td>\n      <td>5.222601e-12</td>\n      <td>1.427525e-10</td>\n      <td>1.427525e-10</td>\n    </tr>\n  </tbody>\n</table>\n<p>5 rows × 82 columns</p>\n</div>"
     },
     "execution_count": 17,
     "metadata": {},
     "output_type": "execute_result"
    }
   ],
   "source": [
    "path_to_dir = '../datasets/input_monthly/PANGAEA/SWIFT-AI-DS-EXT/test/'\n",
    "\n",
    "#from tools.get_list_filenames_three_months_window import get_list_filenames_three_months_window\n",
    "#paths_to_files = get_list_filenames_three_months_window(path_to_dir, month = month, train = False)\n",
    "from tools.load_dataset_twelve_months import load_dataset_twelve_months\n",
    "ds = load_dataset_twelve_months(path_to_dir)\n",
    "\n",
    "from tools.extract_samples import extract_samples\n",
    "df = extract_samples(ds, 100)\n",
    "df.head()"
   ],
   "metadata": {
    "collapsed": false,
    "pycharm": {
     "name": "#%%\n"
    }
   }
  },
  {
   "cell_type": "code",
   "execution_count": 18,
   "outputs": [
    {
     "data": {
      "text/plain": "           modeldate   dayofyear       month         year    overhead  \\\ncount     100.000000  100.000000  100.000000   100.000000  100.000000   \nmean   731169.620000  195.580000    6.960000  2002.340000  167.770985   \nstd      1125.220677  116.397107    3.800372     3.098452   82.249253   \nmin    729695.000000    2.000000    1.000000  1998.000000   25.087105   \n25%    730122.000000   84.500000    3.000000  1999.750000   79.036462   \n50%    730476.000000  193.000000    7.000000  2000.000000  196.918774   \n75%    732247.750000  306.250000   11.000000  2005.000000  225.355038   \nmax    732746.000000  362.000000   12.000000  2007.000000  373.872876   \n\n            eqlat     sza_min  sunlight_hours    O2+hv->O+O  O3+hv->O2+O(1D)  \\\ncount  100.000000  100.000000      100.000000  1.000000e+02       100.000000   \nmean     5.237185   39.909222       11.164797  8.665978e-12         0.000082   \nstd     39.635162   27.552481        3.538672  1.860388e-11         0.000068   \nmin    -85.575046    0.819209        0.000000  0.000000e+00         0.000000   \n25%    -23.997454   13.361626        9.804281  3.665079e-14         0.000046   \n50%      2.594293   37.946543       11.648684  1.231930e-12         0.000069   \n75%     36.413740   61.499590       12.362648  5.515654e-12         0.000089   \nmax     82.045197  100.915355       24.000000  8.730747e-11         0.000328   \n\n       ...  HOy_gasphase            Ox           dOx          dCly  \\\ncount  ...    100.000000  1.000000e+02  1.000000e+02  1.000000e+02   \nmean   ...      0.000006  2.938023e-06 -6.330082e-09  9.088101e-13   \nstd    ...      0.000003  2.867713e-06  6.631952e-08  1.566241e-12   \nmin    ...      0.000001  5.000000e-08 -5.353299e-07  7.149194e-19   \n25%    ...      0.000005  2.589914e-07 -6.695164e-09  7.903738e-14   \n50%    ...      0.000005  2.058952e-06  1.252808e-10  2.728007e-13   \n75%    ...      0.000006  5.436821e-06  5.138818e-09  1.056330e-12   \nmax    ...      0.000029  1.000880e-05  2.063575e-07  8.445535e-12   \n\n       dCly_gasphase          dBry          dNOy  dNOy_gasphase          dHOy  \\\ncount   1.000000e+02  1.000000e+02  1.000000e+02   1.000000e+02  1.000000e+02   \nmean    1.582087e-12  1.256695e-14  6.785591e-12   6.796335e-12  1.890656e-10   \nstd     5.356803e-12  2.151427e-14  2.697304e-11   2.694307e-11  2.973699e-10   \nmin    -2.122704e-14  1.503659e-22 -5.563708e-12  -7.472201e-12 -4.850635e-11   \n25%     7.903784e-14  2.984416e-16  2.321094e-13   2.398584e-13  1.508840e-11   \n50%     2.858847e-13  3.146928e-15  1.133678e-12   1.322780e-12  7.296611e-11   \n75%     1.286127e-12  1.059989e-14  4.498455e-12   4.498455e-12  1.934234e-10   \nmax     5.118720e-11  1.082110e-13  2.591932e-10   2.588469e-10  1.326437e-09   \n\n       dHOy_gasphase  \ncount   1.000000e+02  \nmean    1.890656e-10  \nstd     2.973699e-10  \nmin    -4.850635e-11  \n25%     1.508840e-11  \n50%     7.296611e-11  \n75%     1.934234e-10  \nmax     1.326437e-09  \n\n[8 rows x 82 columns]",
      "text/html": "<div>\n<style scoped>\n    .dataframe tbody tr th:only-of-type {\n        vertical-align: middle;\n    }\n\n    .dataframe tbody tr th {\n        vertical-align: top;\n    }\n\n    .dataframe thead th {\n        text-align: right;\n    }\n</style>\n<table border=\"1\" class=\"dataframe\">\n  <thead>\n    <tr style=\"text-align: right;\">\n      <th></th>\n      <th>modeldate</th>\n      <th>dayofyear</th>\n      <th>month</th>\n      <th>year</th>\n      <th>overhead</th>\n      <th>eqlat</th>\n      <th>sza_min</th>\n      <th>sunlight_hours</th>\n      <th>O2+hv-&gt;O+O</th>\n      <th>O3+hv-&gt;O2+O(1D)</th>\n      <th>...</th>\n      <th>HOy_gasphase</th>\n      <th>Ox</th>\n      <th>dOx</th>\n      <th>dCly</th>\n      <th>dCly_gasphase</th>\n      <th>dBry</th>\n      <th>dNOy</th>\n      <th>dNOy_gasphase</th>\n      <th>dHOy</th>\n      <th>dHOy_gasphase</th>\n    </tr>\n  </thead>\n  <tbody>\n    <tr>\n      <th>count</th>\n      <td>100.000000</td>\n      <td>100.000000</td>\n      <td>100.000000</td>\n      <td>100.000000</td>\n      <td>100.000000</td>\n      <td>100.000000</td>\n      <td>100.000000</td>\n      <td>100.000000</td>\n      <td>1.000000e+02</td>\n      <td>100.000000</td>\n      <td>...</td>\n      <td>100.000000</td>\n      <td>1.000000e+02</td>\n      <td>1.000000e+02</td>\n      <td>1.000000e+02</td>\n      <td>1.000000e+02</td>\n      <td>1.000000e+02</td>\n      <td>1.000000e+02</td>\n      <td>1.000000e+02</td>\n      <td>1.000000e+02</td>\n      <td>1.000000e+02</td>\n    </tr>\n    <tr>\n      <th>mean</th>\n      <td>731169.620000</td>\n      <td>195.580000</td>\n      <td>6.960000</td>\n      <td>2002.340000</td>\n      <td>167.770985</td>\n      <td>5.237185</td>\n      <td>39.909222</td>\n      <td>11.164797</td>\n      <td>8.665978e-12</td>\n      <td>0.000082</td>\n      <td>...</td>\n      <td>0.000006</td>\n      <td>2.938023e-06</td>\n      <td>-6.330082e-09</td>\n      <td>9.088101e-13</td>\n      <td>1.582087e-12</td>\n      <td>1.256695e-14</td>\n      <td>6.785591e-12</td>\n      <td>6.796335e-12</td>\n      <td>1.890656e-10</td>\n      <td>1.890656e-10</td>\n    </tr>\n    <tr>\n      <th>std</th>\n      <td>1125.220677</td>\n      <td>116.397107</td>\n      <td>3.800372</td>\n      <td>3.098452</td>\n      <td>82.249253</td>\n      <td>39.635162</td>\n      <td>27.552481</td>\n      <td>3.538672</td>\n      <td>1.860388e-11</td>\n      <td>0.000068</td>\n      <td>...</td>\n      <td>0.000003</td>\n      <td>2.867713e-06</td>\n      <td>6.631952e-08</td>\n      <td>1.566241e-12</td>\n      <td>5.356803e-12</td>\n      <td>2.151427e-14</td>\n      <td>2.697304e-11</td>\n      <td>2.694307e-11</td>\n      <td>2.973699e-10</td>\n      <td>2.973699e-10</td>\n    </tr>\n    <tr>\n      <th>min</th>\n      <td>729695.000000</td>\n      <td>2.000000</td>\n      <td>1.000000</td>\n      <td>1998.000000</td>\n      <td>25.087105</td>\n      <td>-85.575046</td>\n      <td>0.819209</td>\n      <td>0.000000</td>\n      <td>0.000000e+00</td>\n      <td>0.000000</td>\n      <td>...</td>\n      <td>0.000001</td>\n      <td>5.000000e-08</td>\n      <td>-5.353299e-07</td>\n      <td>7.149194e-19</td>\n      <td>-2.122704e-14</td>\n      <td>1.503659e-22</td>\n      <td>-5.563708e-12</td>\n      <td>-7.472201e-12</td>\n      <td>-4.850635e-11</td>\n      <td>-4.850635e-11</td>\n    </tr>\n    <tr>\n      <th>25%</th>\n      <td>730122.000000</td>\n      <td>84.500000</td>\n      <td>3.000000</td>\n      <td>1999.750000</td>\n      <td>79.036462</td>\n      <td>-23.997454</td>\n      <td>13.361626</td>\n      <td>9.804281</td>\n      <td>3.665079e-14</td>\n      <td>0.000046</td>\n      <td>...</td>\n      <td>0.000005</td>\n      <td>2.589914e-07</td>\n      <td>-6.695164e-09</td>\n      <td>7.903738e-14</td>\n      <td>7.903784e-14</td>\n      <td>2.984416e-16</td>\n      <td>2.321094e-13</td>\n      <td>2.398584e-13</td>\n      <td>1.508840e-11</td>\n      <td>1.508840e-11</td>\n    </tr>\n    <tr>\n      <th>50%</th>\n      <td>730476.000000</td>\n      <td>193.000000</td>\n      <td>7.000000</td>\n      <td>2000.000000</td>\n      <td>196.918774</td>\n      <td>2.594293</td>\n      <td>37.946543</td>\n      <td>11.648684</td>\n      <td>1.231930e-12</td>\n      <td>0.000069</td>\n      <td>...</td>\n      <td>0.000005</td>\n      <td>2.058952e-06</td>\n      <td>1.252808e-10</td>\n      <td>2.728007e-13</td>\n      <td>2.858847e-13</td>\n      <td>3.146928e-15</td>\n      <td>1.133678e-12</td>\n      <td>1.322780e-12</td>\n      <td>7.296611e-11</td>\n      <td>7.296611e-11</td>\n    </tr>\n    <tr>\n      <th>75%</th>\n      <td>732247.750000</td>\n      <td>306.250000</td>\n      <td>11.000000</td>\n      <td>2005.000000</td>\n      <td>225.355038</td>\n      <td>36.413740</td>\n      <td>61.499590</td>\n      <td>12.362648</td>\n      <td>5.515654e-12</td>\n      <td>0.000089</td>\n      <td>...</td>\n      <td>0.000006</td>\n      <td>5.436821e-06</td>\n      <td>5.138818e-09</td>\n      <td>1.056330e-12</td>\n      <td>1.286127e-12</td>\n      <td>1.059989e-14</td>\n      <td>4.498455e-12</td>\n      <td>4.498455e-12</td>\n      <td>1.934234e-10</td>\n      <td>1.934234e-10</td>\n    </tr>\n    <tr>\n      <th>max</th>\n      <td>732746.000000</td>\n      <td>362.000000</td>\n      <td>12.000000</td>\n      <td>2007.000000</td>\n      <td>373.872876</td>\n      <td>82.045197</td>\n      <td>100.915355</td>\n      <td>24.000000</td>\n      <td>8.730747e-11</td>\n      <td>0.000328</td>\n      <td>...</td>\n      <td>0.000029</td>\n      <td>1.000880e-05</td>\n      <td>2.063575e-07</td>\n      <td>8.445535e-12</td>\n      <td>5.118720e-11</td>\n      <td>1.082110e-13</td>\n      <td>2.591932e-10</td>\n      <td>2.588469e-10</td>\n      <td>1.326437e-09</td>\n      <td>1.326437e-09</td>\n    </tr>\n  </tbody>\n</table>\n<p>8 rows × 82 columns</p>\n</div>"
     },
     "execution_count": 18,
     "metadata": {},
     "output_type": "execute_result"
    }
   ],
   "source": [
    "df.describe()"
   ],
   "metadata": {
    "collapsed": false,
    "pycharm": {
     "name": "#%%\n"
    }
   }
  },
  {
   "cell_type": "code",
   "execution_count": null,
   "outputs": [],
   "source": [],
   "metadata": {
    "collapsed": false,
    "pycharm": {
     "name": "#%%\n"
    }
   }
  }
 ],
 "metadata": {
  "kernelspec": {
   "display_name": "Python 3 (ipykernel)",
   "language": "python",
   "name": "python3"
  },
  "language_info": {
   "codemirror_mode": {
    "name": "ipython",
    "version": 3
   },
   "file_extension": ".py",
   "mimetype": "text/x-python",
   "name": "python",
   "nbconvert_exporter": "python",
   "pygments_lexer": "ipython3",
   "version": "3.9.12"
  }
 },
 "nbformat": 4,
 "nbformat_minor": 1
}